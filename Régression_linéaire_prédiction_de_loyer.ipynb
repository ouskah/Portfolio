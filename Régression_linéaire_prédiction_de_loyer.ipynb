{
 "cells": [
  {
   "cell_type": "markdown",
   "metadata": {},
   "source": [
    "# Activité : Allez plus loin dans la prédiction de loyer"
   ]
  },
  {
   "cell_type": "markdown",
   "metadata": {},
   "source": [
    "## Phase 1 : importation & description des données"
   ]
  },
  {
   "cell_type": "code",
   "execution_count": 1,
   "metadata": {},
   "outputs": [],
   "source": [
    "# On importe les librairies dont on a besoin\n",
    "import numpy as np\n",
    "import pandas as pd\n",
    "import matplotlib.pyplot as plt\n",
    "import seaborn as sns; sns.set()\n",
    "%matplotlib inline"
   ]
  },
  {
   "cell_type": "code",
   "execution_count": 2,
   "metadata": {},
   "outputs": [
    {
     "name": "stdout",
     "output_type": "stream",
     "text": [
      "Taille du dataset brut : (827, 3)\n",
      "Taille du dataset sans les NaN : (822, 3)\n"
     ]
    }
   ],
   "source": [
    "# On importe notre jeu de données et on le stock dans un dataframe\n",
    "# On crée un sous-ensemble qui filtre les \"outliers\" (prix trop élevés),\n",
    "# le seuil fixé est arbitraire et résulte d'un travail d'observation approfondi du jeu de données\n",
    "# On drop aussi les NaN afin de nettoyer notre dataframe \n",
    "house_data_raw = pd.read_csv('house_data.csv')\n",
    "house_data_select = house_data_raw.dropna(axis=0, how='any')\n",
    "house_data_select2 = house_data_select[house_data_select['price'] < 7000]\n",
    "\n",
    "\n",
    "# Shape du dataset brut (row, column)\n",
    "print(\"Taille du dataset brut : {}\".format(house_data_raw.shape))\n",
    "# Shape du dataset sans les NaN \n",
    "print(\"Taille du dataset sans les NaN : {}\".format(house_data_select.shape))"
   ]
  },
  {
   "cell_type": "code",
   "execution_count": 3,
   "metadata": {},
   "outputs": [
    {
     "data": {
      "text/html": [
       "<div>\n",
       "<style>\n",
       "    .dataframe thead tr:only-child th {\n",
       "        text-align: right;\n",
       "    }\n",
       "\n",
       "    .dataframe thead th {\n",
       "        text-align: left;\n",
       "    }\n",
       "\n",
       "    .dataframe tbody tr th {\n",
       "        vertical-align: top;\n",
       "    }\n",
       "</style>\n",
       "<table border=\"1\" class=\"dataframe\">\n",
       "  <thead>\n",
       "    <tr style=\"text-align: right;\">\n",
       "      <th></th>\n",
       "      <th>price</th>\n",
       "      <th>surface</th>\n",
       "      <th>arrondissement</th>\n",
       "    </tr>\n",
       "  </thead>\n",
       "  <tbody>\n",
       "    <tr>\n",
       "      <th>count</th>\n",
       "      <td>827.000000</td>\n",
       "      <td>822.000000</td>\n",
       "      <td>822.000000</td>\n",
       "    </tr>\n",
       "    <tr>\n",
       "      <th>mean</th>\n",
       "      <td>2007.342201</td>\n",
       "      <td>58.045925</td>\n",
       "      <td>4.142336</td>\n",
       "    </tr>\n",
       "    <tr>\n",
       "      <th>std</th>\n",
       "      <td>1890.894229</td>\n",
       "      <td>44.827522</td>\n",
       "      <td>3.202151</td>\n",
       "    </tr>\n",
       "    <tr>\n",
       "      <th>min</th>\n",
       "      <td>390.000000</td>\n",
       "      <td>10.000000</td>\n",
       "      <td>1.000000</td>\n",
       "    </tr>\n",
       "    <tr>\n",
       "      <th>25%</th>\n",
       "      <td>1050.000000</td>\n",
       "      <td>28.655000</td>\n",
       "      <td>2.000000</td>\n",
       "    </tr>\n",
       "    <tr>\n",
       "      <th>50%</th>\n",
       "      <td>1567.000000</td>\n",
       "      <td>46.100000</td>\n",
       "      <td>3.000000</td>\n",
       "    </tr>\n",
       "    <tr>\n",
       "      <th>75%</th>\n",
       "      <td>2346.000000</td>\n",
       "      <td>73.000000</td>\n",
       "      <td>4.000000</td>\n",
       "    </tr>\n",
       "    <tr>\n",
       "      <th>max</th>\n",
       "      <td>25000.000000</td>\n",
       "      <td>415.000000</td>\n",
       "      <td>10.000000</td>\n",
       "    </tr>\n",
       "  </tbody>\n",
       "</table>\n",
       "</div>"
      ],
      "text/plain": [
       "              price     surface  arrondissement\n",
       "count    827.000000  822.000000      822.000000\n",
       "mean    2007.342201   58.045925        4.142336\n",
       "std     1890.894229   44.827522        3.202151\n",
       "min      390.000000   10.000000        1.000000\n",
       "25%     1050.000000   28.655000        2.000000\n",
       "50%     1567.000000   46.100000        3.000000\n",
       "75%     2346.000000   73.000000        4.000000\n",
       "max    25000.000000  415.000000       10.000000"
      ]
     },
     "execution_count": 3,
     "metadata": {},
     "output_type": "execute_result"
    }
   ],
   "source": [
    "# On en profite pour dresser un petit bilan de statistiques descriptives du jeu de données \"brut\"\n",
    "house_data_raw.describe()\n",
    "# Vous pouvez décommenter la ligne ci-dessous si vous désirez dresser le bilan à partir du sous-ensemble\n",
    "# house_data_select2.describe()"
   ]
  },
  {
   "cell_type": "code",
   "execution_count": 4,
   "metadata": {},
   "outputs": [
    {
     "data": {
      "image/png": "[encoded data removed]",
      "text/plain": [
       "<matplotlib.figure.Figure at 0x7ff619304898>"
      ]
     },
     "metadata": {},
     "output_type": "display_data"
    }
   ],
   "source": [
    "# Réalisation d'un première visualisation des données qui nous intéressent, pour le moment on évolue en contexte bivarié\n",
    "# avec les deux variables suivantes : la surface en mètre carré, et le prix en euros\n",
    "plt.plot(house_data_select2['surface'], house_data_select2['price'], 'ro', markersize=4)\n",
    "plt.show()"
   ]
  },
  {
   "cell_type": "code",
   "execution_count": 5,
   "metadata": {},
   "outputs": [
    {
     "data": {
      "text/plain": [
       "[<matplotlib.lines.Line2D at 0x7ff61927d4a8>]"
      ]
     },
     "execution_count": 5,
     "metadata": {},
     "output_type": "execute_result"
    },
    {
     "data": {
      "image/png": "[encoded data removed]",
      "text/plain": [
       "<matplotlib.figure.Figure at 0x7ff61927d320>"
      ]
     },
     "metadata": {},
     "output_type": "display_data"
    }
   ],
   "source": [
    "# Réalisation d'une première régression linéaire \"baseline\" sans training & testing sets\n",
    "import matplotlib.pyplot as plt\n",
    "from sklearn.linear_model import LinearRegression\n",
    "# Création des variables à traiter\n",
    "x = house_data_select2['surface']\n",
    "y = house_data_select2['price']\n",
    "# Intégration du modèle de régression linéaire\n",
    "model = LinearRegression(fit_intercept=True)\n",
    "# On applique les variables définies plus haut, à notre modèle\n",
    "model.fit(x[:, np.newaxis], y)\n",
    "# On crée les axes xfit et yfit pour tracer la droite\n",
    "xfit = np.linspace(0, 250)\n",
    "yfit = model.predict(xfit[:, np.newaxis])\n",
    "# Pour terminer on produit le graphique avec le nuage de données et la droite de la régression linéaire \n",
    "plt.scatter(x, y)\n",
    "plt.plot(xfit, yfit)"
   ]
  },
  {
   "cell_type": "markdown",
   "metadata": {},
   "source": [
    "## Phase 2 : travail du modèle"
   ]
  },
  {
   "cell_type": "markdown",
   "metadata": {},
   "source": [
    "### Premier modèle : réalisation de la régression linéaire avec une feature"
   ]
  },
  {
   "cell_type": "code",
   "execution_count": 6,
   "metadata": {},
   "outputs": [
    {
     "name": "stdout",
     "output_type": "stream",
     "text": [
      "Score du r2 sur le training set : 0.825223\n",
      "Score du r2 sur le testing set : 0.855514\n",
      "###################################################################################################################\n",
      "- Scores de la validation croisée avec 10 folds : [0.97472176 0.62751285 0.84629669 0.7541655  0.82630897 0.73785756\n",
      " 0.88334264 0.88128941 0.73715967 0.82063986]\n",
      "- La moyenne de la validation croisée est : 0.8089294930361192 \n"
     ]
    },
    {
     "name": "stderr",
     "output_type": "stream",
     "text": [
      "/home/adil/anaconda3/lib/python3.6/site-packages/sklearn/cross_validation.py:41: DeprecationWarning: This module was deprecated in version 0.18 in favor of the model_selection module into which all the refactored classes and functions are moved. Also note that the interface of the new CV iterators are different from that of this module. This module will be removed in 0.20.\n",
      "  \"This module will be removed in 0.20.\", DeprecationWarning)\n"
     ]
    },
    {
     "data": {
      "image/png": "[encoded data removed]",
      "text/plain": [
       "<matplotlib.figure.Figure at 0x7ff61927d390>"
      ]
     },
     "metadata": {},
     "output_type": "display_data"
    }
   ],
   "source": [
    "# Réalisation d'une régression linéaire avec une feature, et en intégrant une séparation de sets\n",
    "# On importe ici les différentes fonctions dont on aura besoin   \n",
    "from sklearn import linear_model, cross_validation\n",
    "from sklearn.linear_model import LinearRegression\n",
    "from sklearn.cross_validation import train_test_split, cross_val_score, cross_val_predict\n",
    "from sklearn import metrics\n",
    "from sklearn.metrics import r2_score\n",
    "\n",
    "x = np.matrix([np.ones(house_data_select2.shape[0]), house_data_select2['surface']]).T\n",
    "y = np.matrix(house_data_select2['price']).T\n",
    "\n",
    "# Vous pouvez ici tester ce modèle avec deux features en décommentant la ligne ci-dessous\n",
    "# x = np.matrix([np.ones(house_data_select2.shape[0]), house_data_select2['surface'], house_data_select2['arrondissement']]).T\n",
    "\n",
    "'''On sépare le dataset en training et testing sets, à noter que le paramètre random_state nous sert ici à \"figer\"\n",
    "   la randomisation des sets qui ne sont désormais tirés qu'une seule fois.\n",
    "   Celà nous permet d'avoir un point de comparaison pour évaluer les deux modèles que l'on veut ici confronter.\n",
    "   On pourra ainsi sélectionner en fin d'activité celui qui nous semble être optimal.\n",
    "'''\n",
    "# Séparation des sets et fixation du paramètre random_state\n",
    "Xtrain, Xtest, ytrain, ytest = train_test_split(x, y, train_size=0.8, random_state=42)\n",
    "# Implentation du modèle de régression linéaire \n",
    "model = LinearRegression()\n",
    "# Entrainement du modèle avec les training sets \n",
    "model.fit(Xtrain, ytrain)\n",
    "# Prédiction en appliquant le modèle entrainé au testing set \n",
    "predict1 = model.predict(Xtest)\n",
    "\n",
    "# Petit \"hack\", j'avais du mal à retrouver la graduation en mètre carré pour les abscisses...\n",
    "# J'ai donc essayé de résoudre le problème avec numpy en réduisant la dimension des numpy arrays\n",
    "xtest_2d =  Xtest[:, 1]\n",
    "# Convertir les numpy 2D array into numpy 1D array\n",
    "xtest_flat = xtest_2d.flatten()\n",
    "xtest_flat2 = np.ravel(xtest_flat)\n",
    "\n",
    "# On produit une visualisation des résultats obtenus en ajoutant un titre et des labels au graphique\n",
    "plt.plot(xtest_flat2, ytest, 'ro', color='blue')\n",
    "plt.plot([xtest_flat2.min(), xtest_flat2.max()], [ytest.min(), ytest.max()],'k--', lw=2, c='r')\n",
    "plt.title('Régression linéaire pour des loyers parisiens')\n",
    "plt.xlabel('Surface en mètre carré')\n",
    "plt.ylabel('Prix en euros')\n",
    "\n",
    "###########################################################################\n",
    "##                 Rapport d'évaluation du premier modèle                ##\n",
    "###########################################################################\n",
    "\n",
    "# On évalue le modèle à partir de la métrique du R2 en comparant les résultats obtenus avec le training et testing sets\n",
    "\n",
    "pred_train = model.predict(Xtrain)\n",
    "print(\"Score du r2 sur le training set : %f\" % r2_score(ytrain, pred_train))\n",
    "\n",
    "pred_test = model.predict(Xtest)\n",
    "print(\"Score du r2 sur le testing set : %f\" % r2_score(ytest, pred_test))\n",
    "\n",
    "print('###################################################################################################################')\n",
    "# Pour terminer on intégre une \"amélioration\" de l'évaluation du modèle avec une validation croisée\n",
    "# La validation croisée permet de mieux évaluer la performance d'un modèle en :\n",
    "# - découpant le testing set en plusieurs parties (folds)\n",
    "# - moyennant l'erreur du modèle en fonction du nombre total de folds choisis\n",
    "# On définit un nombre de folds nommés ici k\n",
    "k = 10\n",
    "# On réalise la validation croisée sur notre testing set\n",
    "scores = cross_val_score(model, predict1, ytest, cv=k)\n",
    "print(\"- Scores de la validation croisée avec {} folds : {}\".format(k, scores))\n",
    "# On affiche la moyenne des résultats obtenus sur l'ensemble de cette validation croisée\n",
    "print(\"- La moyenne de la validation croisée est : {} \".format(scores.mean()))"
   ]
  },
  {
   "cell_type": "markdown",
   "metadata": {},
   "source": [
    "### Premier modèle : optimisation du nombre de folds de la validation croisée"
   ]
  },
  {
   "cell_type": "code",
   "execution_count": 7,
   "metadata": {},
   "outputs": [
    {
     "data": {
      "image/png": "[encoded data removed]",
      "text/plain": [
       "<matplotlib.figure.Figure at 0x7ff60a7d1860>"
      ]
     },
     "metadata": {},
     "output_type": "display_data"
    },
    {
     "name": "stdout",
     "output_type": "stream",
     "text": [
      "- Scores de la validation croisée avec 2 folds : [0.82734789 0.8605454 ]\n",
      "- La moyenne de la validation croisée est : 0.8439466452333111 \n"
     ]
    }
   ],
   "source": [
    "# Ici on cherche à définir le nombre optimal de folds pour la validation croisée\n",
    "krange = range(2, 11)\n",
    "errors = []\n",
    "dico = {'fold': [], 'erreur': errors}\n",
    "for i in krange:\n",
    "    errors.append(cross_val_score(model, Xtest, ytest, cv=i).mean())\n",
    "    dico['fold'].append(i)\n",
    "    \n",
    "plt.plot(krange, errors, 'o-')\n",
    "plt.title('Evaluation du nombre optimal de folds ')\n",
    "plt.xlabel('Nombre de folds')\n",
    "plt.ylabel('Erreur moyenne')\n",
    "plt.show()\n",
    "\n",
    "# On remarque donc ici d'après le graphique que le nombre optimal de folds est 2\n",
    "\n",
    "# Les trois lignes de code qui suivent servent à retrouver le fold optimal k dans notre dataframe df_err\n",
    "# df_err est le dataframe qui regroupe l'erreur moyenne pour chaque fold, ainsi que ces-derniers\n",
    "df_err = pd.DataFrame(dico)\n",
    "err_max = df_err.loc[df_err['erreur'].idxmax()]\n",
    "k = int(err_max[1])\n",
    "# On relance donc une seconde validation croisée avec le nombre de folds optimal\n",
    "scores = cross_val_score(model, Xtest, ytest, cv=k)\n",
    "print(\"- Scores de la validation croisée avec {} folds : {}\".format(k, scores))\n",
    "# On affiche la moyenne des résultats obtenus sur l'ensemble de cette validation croisée\n",
    "print(\"- La moyenne de la validation croisée est : {} \".format(scores.mean()))\n",
    "## Attention, prendre un nombre aussi réduit (il correspond à la limite basse du nombre de folds autorisés par la\n",
    "## méthode des KFolds), n'est pas forcément une bonne pratique en machine learning (elle constitue une \"biais\" analytique).\n",
    "## C'est pourquoi il convient de choisir un nombre de folds plus conséquent comme 7 ou 10 (10 étant une norme que l'on\n",
    "## peut parfois observer en machine learning) par exemple.\n",
    "\n",
    "# Variable qui regroupe l'ensemble des erreurs moyennes pour chacun des folds pour le premier modèle\n",
    "# Elle sera utilisée pour la partie intitulée \"Phase finale\" du notebook\n",
    "all_err_m1 = [i for i in df_err['erreur']]"
   ]
  },
  {
   "cell_type": "markdown",
   "metadata": {},
   "source": [
    "### Second modèle : réalisation de la régression linéaire avec deux features et deux nouveaux filtres"
   ]
  },
  {
   "cell_type": "code",
   "execution_count": 8,
   "metadata": {},
   "outputs": [
    {
     "name": "stdout",
     "output_type": "stream",
     "text": [
      "Score du r2 sur le training set : 0.855759\n",
      "Score du r2 sur le testing set : 0.854695\n",
      "####################################################################################################################\n",
      "- Scores de la validation croisée avec 10 folds : [0.80348577 0.67859395 0.76492741 0.72349645 0.89233061 0.80104038\n",
      " 0.93078024 0.92163361 0.86285824 0.76809922]\n",
      "- La moyenne de la validation croisée est : 0.8147245870185686 \n"
     ]
    },
    {
     "data": {
      "image/png": "[encoded data removed]",
      "text/plain": [
       "<matplotlib.figure.Figure at 0x7ff60a7046a0>"
      ]
     },
     "metadata": {},
     "output_type": "display_data"
    }
   ],
   "source": [
    "# Réalisation d'une régression linéaire avec :\n",
    "# - deux features\n",
    "# - une séparation de sets\n",
    "# - deux filtres afin de retirer des outliers pour améliorer le modèle\n",
    "\n",
    "# Ré-import des données et dropping des NaN\n",
    "house_data_raw = pd.read_csv('house_data.csv')\n",
    "h_data_raw = house_data_raw.dropna(axis=0, how='any')\n",
    "\n",
    "# On intègre ici les deux filtres qui nous intéressent\n",
    "# La méthodologie de filtrage est analogue à celle utilisée à la deuxième cellule de ce notebook \n",
    "# (arbitrage par observation)\n",
    "\n",
    "house_data_select1 = h_data_raw[(h_data_raw['surface'] < 180) & (h_data_raw['price'] < 6000)]\n",
    "\n",
    "# Vous pouvez ici tester ce modèle avec deux features en décommentant la ligne ci-dessous\n",
    "# x1 = np.matrix([np.ones(house_data_select2.shape[0]), house_data_select2['surface']]).T\n",
    "# y1 = np.matrix(house_data_select2['price']).T\n",
    "\n",
    "# Ici on intègre donc bien les deux features : surface et arrondissement.\n",
    "# Ces-dernières seront étudiées en fonction de la variable y correspondant au prix (price)\n",
    "x1 = np.matrix([np.ones(house_data_select1.shape[0]), house_data_select1['surface'], house_data_select1['arrondissement']]).T\n",
    "y1 = np.matrix(house_data_select1['price']).T\n",
    "\n",
    "Xtrain_2, Xtest_2, ytrain_2, ytest_2 = train_test_split(x1, y1, train_size=0.8, random_state=42)\n",
    "\n",
    "model_m2 = LinearRegression()\n",
    "\n",
    "model_m2.fit(Xtrain_2, ytrain_2)\n",
    "\n",
    "predict1_m2 = model_m2.predict(Xtest_2)\n",
    "\n",
    "# Petit \"hack\", j'avais du mal à retrouver la graduation en mètre carré pour les abscisses...\n",
    "# J'ai donc essayé de résoudre le problème avec numpy en réduisant la dimension des numpy arrays\n",
    "xtest_2d_m2 =  Xtest_2[:, 1]\n",
    "# Convertir les numpy 2D array into numpy 1D array\n",
    "pred_1d_m2 = predict1_m2.flatten()\n",
    "xtest_flat_m2 = xtest_2d_m2.flatten()\n",
    "xtest_flat2_m2 = np.ravel(xtest_flat_m2)\n",
    "\n",
    "plt.plot(xtest_flat2_m2, ytest_2, 'ro', color='blue')\n",
    "plt.plot([xtest_flat2_m2.min(), xtest_flat2_m2.max()], [ytest_2.min(), ytest_2.max()],'k--', lw=2, c='green')\n",
    "\n",
    "plt.title('Régression linéaire pour des loyers parisiens')\n",
    "plt.xlabel('Surface en mètre carré')\n",
    "plt.ylabel('Prix en euros')\n",
    "\n",
    "###########################################################################\n",
    "##                 Rapport d'évaluation du second modèle                 ##\n",
    "###########################################################################\n",
    "\n",
    "# On évalue le modèle à partir de la métrique du R2 en comparant les résultats obtenus avec le training et testing sets\n",
    "\n",
    "pred_train_2 = model_m2.predict(Xtrain_2)\n",
    "print(\"Score du r2 sur le training set : %f\" % r2_score(ytrain_2, pred_train_2))\n",
    "\n",
    "pred_test_2 = model_m2.predict(Xtest_2)\n",
    "print(\"Score du r2 sur le testing set : %f\" % r2_score(ytest_2, pred_test_2))\n",
    "\n",
    "print('####################################################################################################################')\n",
    "# Pour terminer on intégre une \"amélioration\" de l'évaluation du modèle avec une validation croisée\n",
    "# La validation croisée permet de mieux évaluer la performance d'un modèle en :\n",
    "# - découpant le testing set en plusieurs parties (folds)\n",
    "# - moyennant l'erreur du modèle en fonction du nombre total de folds choisis\n",
    "# On définit un nombre de folds nommés ici k\n",
    "k_m2 = 10\n",
    "# On réalise la validation croisée sur notre testing set\n",
    "scores_m2 = cross_val_score(model_m2, predict1_m2, ytest_2, cv=k_m2)\n",
    "print(\"- Scores de la validation croisée avec {} folds : {}\".format(k_m2, scores_m2))\n",
    "# On affiche la moyenne des résultats obtenus sur l'ensemble de cette validation croisée\n",
    "print(\"- La moyenne de la validation croisée est : {} \".format(scores_m2.mean()))"
   ]
  },
  {
   "cell_type": "markdown",
   "metadata": {},
   "source": [
    "### Second modèle : optimisation du nombre de folds de la validation croisée"
   ]
  },
  {
   "cell_type": "code",
   "execution_count": 9,
   "metadata": {},
   "outputs": [
    {
     "data": {
      "image/png": "[encoded data removed]",
      "text/plain": [
       "<matplotlib.figure.Figure at 0x7ff6192d5780>"
      ]
     },
     "metadata": {},
     "output_type": "display_data"
    },
    {
     "name": "stdout",
     "output_type": "stream",
     "text": [
      "- Scores de la validation croisée avec 2 folds : [0.80566354 0.89231386]\n",
      "- La moyenne de la validation croisée est : 0.8489886980307251 \n"
     ]
    }
   ],
   "source": [
    "# Ici on cherche à définir le nombre optimal de folds pour la validation croisée\n",
    "krange_m2 = range(2, 11)\n",
    "errors_m2 = []\n",
    "dico_m2 = {'fold': [], 'erreur': errors_m2}\n",
    "for i in krange_m2:\n",
    "    errors_m2.append(cross_val_score(model_m2, Xtest_2, ytest_2, cv=i).mean())\n",
    "    dico_m2['fold'].append(i)\n",
    "    \n",
    "plt.plot(krange_m2, errors_m2, 'o-')\n",
    "plt.title('Evaluation du nombre optimal de folds ')\n",
    "plt.xlabel('Nombre de folds')\n",
    "plt.ylabel('Erreur moyenne')\n",
    "plt.show()\n",
    "\n",
    "# On remarque donc ici d'après le graphique que le nombre optimal de folds est 2\n",
    "\n",
    "# Les trois lignes de code qui suivent servent à retrouver le fold optimal k dans notre dataframe df_err\n",
    "# df_err est le dataframe qui regroupe l'erreur moyenne pour chaque fold, ainsi que ces-derniers\n",
    "df_err_m2 = pd.DataFrame(dico_m2)\n",
    "err_max_m2 = df_err_m2.loc[df_err_m2['erreur'].idxmax()]\n",
    "k_m2 = int(err_max_m2[1])\n",
    "# On relance donc une seconde validation croisée avec le nombre de folds optimal\n",
    "scores_m2 = cross_val_score(model_m2, Xtest_2, ytest_2, cv=k_m2)\n",
    "print(\"- Scores de la validation croisée avec {} folds : {}\".format(k_m2, scores_m2))\n",
    "# On affiche la moyenne des résultats obtenus sur l'ensemble de cette validation croisée\n",
    "print(\"- La moyenne de la validation croisée est : {} \".format(scores_m2.mean()))\n",
    "## Attention, prendre un nombre aussi réduit (il correspond à la limite basse du nombre de folds autorisés par la\n",
    "## méthode des KFolds), n'est pas forcément une bonne pratique en machine learning (elle constitue une \"biais\" analytique).\n",
    "## C'est pourquoi il convient de choisir un nombre de folds plus conséquent comme 7 ou 10 (10 étant une norme que l'on\n",
    "## peut parfois observer en machine learning) par exemple.\n",
    "\n",
    "# Variable qui regroupe l'ensemble des erreurs moyennes pour chacun des folds pour le second modèle\n",
    "# Elle sera utilisée pour la partie intitulée \"Phase finale\" du notebook\n",
    "all_err_m2 = [i for i in df_err_m2['erreur']]"
   ]
  },
  {
   "cell_type": "markdown",
   "metadata": {},
   "source": [
    "## Phase finale : séléction du modèle final"
   ]
  },
  {
   "cell_type": "markdown",
   "metadata": {},
   "source": [
    "Au vue de l'ensemble des mesures de performances, le modèle final séléctionné correspond au **second modèle**.\n",
    "\n",
    "En effet voici le bilan des performances :"
   ]
  },
  {
   "cell_type": "markdown",
   "metadata": {},
   "source": [
    "### Bilan des performances"
   ]
  },
  {
   "cell_type": "code",
   "execution_count": 10,
   "metadata": {},
   "outputs": [
    {
     "data": {
      "text/html": [
       "<div>\n",
       "<style>\n",
       "    .dataframe thead tr:only-child th {\n",
       "        text-align: right;\n",
       "    }\n",
       "\n",
       "    .dataframe thead th {\n",
       "        text-align: left;\n",
       "    }\n",
       "\n",
       "    .dataframe tbody tr th {\n",
       "        vertical-align: top;\n",
       "    }\n",
       "</style>\n",
       "<table border=\"1\" class=\"dataframe\">\n",
       "  <thead>\n",
       "    <tr style=\"text-align: right;\">\n",
       "      <th></th>\n",
       "      <th>Modèle 1</th>\n",
       "      <th>Modèle 2</th>\n",
       "    </tr>\n",
       "  </thead>\n",
       "  <tbody>\n",
       "    <tr>\n",
       "      <th>erreur_2CV</th>\n",
       "      <td>0.843947</td>\n",
       "      <td>0.848989</td>\n",
       "    </tr>\n",
       "    <tr>\n",
       "      <th>erreur_3CV</th>\n",
       "      <td>0.813422</td>\n",
       "      <td>0.842922</td>\n",
       "    </tr>\n",
       "    <tr>\n",
       "      <th>erreur_4CV</th>\n",
       "      <td>0.829034</td>\n",
       "      <td>0.837766</td>\n",
       "    </tr>\n",
       "    <tr>\n",
       "      <th>erreur_5CV</th>\n",
       "      <td>0.818846</td>\n",
       "      <td>0.827334</td>\n",
       "    </tr>\n",
       "    <tr>\n",
       "      <th>erreur_6CV</th>\n",
       "      <td>0.826344</td>\n",
       "      <td>0.824191</td>\n",
       "    </tr>\n",
       "    <tr>\n",
       "      <th>erreur_7CV</th>\n",
       "      <td>0.824830</td>\n",
       "      <td>0.835327</td>\n",
       "    </tr>\n",
       "    <tr>\n",
       "      <th>erreur_8CV</th>\n",
       "      <td>0.802678</td>\n",
       "      <td>0.821628</td>\n",
       "    </tr>\n",
       "    <tr>\n",
       "      <th>erreur_9CV</th>\n",
       "      <td>0.810336</td>\n",
       "      <td>0.826260</td>\n",
       "    </tr>\n",
       "    <tr>\n",
       "      <th>erreur_10CV</th>\n",
       "      <td>0.808929</td>\n",
       "      <td>0.819830</td>\n",
       "    </tr>\n",
       "  </tbody>\n",
       "</table>\n",
       "</div>"
      ],
      "text/plain": [
       "             Modèle 1  Modèle 2\n",
       "erreur_2CV   0.843947  0.848989\n",
       "erreur_3CV   0.813422  0.842922\n",
       "erreur_4CV   0.829034  0.837766\n",
       "erreur_5CV   0.818846  0.827334\n",
       "erreur_6CV   0.826344  0.824191\n",
       "erreur_7CV   0.824830  0.835327\n",
       "erreur_8CV   0.802678  0.821628\n",
       "erreur_9CV   0.810336  0.826260\n",
       "erreur_10CV  0.808929  0.819830"
      ]
     },
     "execution_count": 10,
     "metadata": {},
     "output_type": "execute_result"
    }
   ],
   "source": [
    "# On dresse ici le bilan des rapports d'erreurs pour les model 1 et model 2 en fonction du nombre de folds\n",
    "\n",
    "# On crée une liste qui regroupe toutes les étiquettes de l'index de notre futur dataframe\n",
    "nb = range(2, 11)\n",
    "lise = []\n",
    "for i in nb:\n",
    "    lise.append('erreur_{}CV'.format(i))\n",
    "\n",
    "# Création de notre rapport d'erreurs qui prend la forme d'un dataframe\n",
    "df_rapport = pd.DataFrame({'Modèle 1': all_err_m1, 'Modèle 2': all_err_m2}, index=lise)\n",
    "\n",
    "# Print n'est pas utilisé ici car le notebook affiche le dataframe de manière plus esthétique à mon sens ;) \n",
    "df_rapport"
   ]
  },
  {
   "cell_type": "code",
   "execution_count": 11,
   "metadata": {},
   "outputs": [
    {
     "name": "stdout",
     "output_type": "stream",
     "text": [
      "Modèle 1    0.808929\n",
      "Modèle 2    0.819830\n",
      "Name: erreur_10CV, dtype: float64\n"
     ]
    }
   ],
   "source": [
    "# ATTENTION !!! On rappelle ici que pour évaluer la performance des différents modèles \n",
    "# nous avons choisi un nombre de folds correspondant à 10CV\n",
    "print(df_rapport.loc['erreur_10CV'])"
   ]
  },
  {
   "cell_type": "markdown",
   "metadata": {},
   "source": [
    "**_N.B :_** \n",
    "- On voit donc bien ici qu'en tendance lourde (\"qu'importe le nombre de folds choisis\"), notre second modèle donnera toujours (dans ce cas de figure) un score plus élevé que celui qui est produit par le premier modèle.\n",
    "\n",
    " Ce score correspond au **R2** qui est aussi appelé **coefficient de détermination** :\n",
    " https://fr.wikipedia.org/wiki/Coefficient_de_d%C3%A9termination\n",
    "\n",
    "\n",
    "- Une exception reste à noter pour le cas de 6 folds où paradoxalement le modèle 1 semble légèrement plus performant que\n",
    " le modèle final !"
   ]
  },
  {
   "cell_type": "code",
   "execution_count": 12,
   "metadata": {},
   "outputs": [
    {
     "data": {
      "text/plain": [
       "Modèle 1    0.826344\n",
       "Modèle 2    0.824191\n",
       "Name: erreur_6CV, dtype: float64"
      ]
     },
     "execution_count": 12,
     "metadata": {},
     "output_type": "execute_result"
    }
   ],
   "source": [
    "df_rapport.loc['erreur_6CV']"
   ]
  },
  {
   "cell_type": "markdown",
   "metadata": {},
   "source": [
    "### Les améliorations appliquées"
   ]
  },
  {
   "cell_type": "markdown",
   "metadata": {},
   "source": [
    "Voici les améliorations que nous avons intégré pour ce second modèle :\n",
    "- **Extension d'une seconde feature pour x :**\n",
    "\n",
    "    La variable de base étant la \"surface\", nous avons ajouté celle de l'\"arrondissement\". \n",
    "\n",
    "    Nous totalisons ainsi un ensemble de deux features pour x.\n",
    "    \n",
    "    \n",
    "    \n",
    "- **Filtrage avancé appliqué à l'ensemble de ces deux features.**\n",
    "\n",
    "  1 - La variable \"surface\" a été restreinte aux appartements possédant une surface totale inférieure à 180 m².\n",
    "  \n",
    "  2 - La variable \"price\" a été réduite aux appartements ayant un loyer inférieur à 6 000 euros par mois.\n",
    "  \n",
    "  \n",
    "- **Intégration d'une validation croisée avec moyennisation de l'erreur globale (en fonction du nombre de folds choisis)**\n"
   ]
  },
  {
   "cell_type": "markdown",
   "metadata": {},
   "source": [
    "**_N.B :_** \n",
    "\n",
    "Les filtrages bien que drastiques, ne semblent pas aggraver le risque d'_overfitting_. \n",
    "\n",
    "En effet on a réduit une certaine quantité d'_outliers_ mais à des fins purement socio-économiques.\n",
    "\n",
    "Statistiquement les appartements de plus de 6 000 euros sont de manière empirique plus souvent associés à des surfaces élevés. \n",
    "\n",
    "Qui plus est, ils demeurent relativement minoritaires au sein de notre _dataset_ comme peut le montrer la briève \n",
    "description statistique suivante :"
   ]
  },
  {
   "cell_type": "code",
   "execution_count": 13,
   "metadata": {},
   "outputs": [
    {
     "name": "stdout",
     "output_type": "stream",
     "text": [
      "Nombre d'appartements : 13\n",
      "Proportion des appartements filtrés par rapport au dataset de départ : 2%\n"
     ]
    }
   ],
   "source": [
    "# Démonstration de statistique de l'influence des filtres \n",
    "house_data_raw = pd.read_csv('house_data.csv')\n",
    "h_data_raw = house_data_raw.dropna(axis=0, how='any')\n",
    "\n",
    "\n",
    "######################################################\n",
    "#               Filtres séparés                      #\n",
    "######################################################\n",
    "\n",
    "# Décommenter les lignes suivantes pour étudier les filtres séparémemt \n",
    "\n",
    "# Premier filtre qui concerne la variable surface\n",
    "# h_surface_top = h_data_raw[h_data_raw['surface'] >= 180]\n",
    "# x_hst = len(h_surface_top)\n",
    "\n",
    "# Premier filtre qui concerne la variable price\n",
    "# h_price_top = h_data_raw[h_data_raw['price'] >= 6000]\n",
    "# x_hpt = len(h_price_top)\n",
    "\n",
    "# Permet ici de comparer les éléments communs aux deux filtres\n",
    "# xxx = h_price_top.isin(h_surface_top)\n",
    "# yyy = h_surface_top.isin(h_price_top)\n",
    "\n",
    "\n",
    "######################################################\n",
    "#           Filtres optimisés (cas utilisé)          #\n",
    "######################################################\n",
    "\n",
    "\n",
    "# \"House data surface and price top (hdspt)\"\n",
    "hdspt = h_data_raw[(h_data_raw['surface'] >= 180) & (h_data_raw['price'] >= 6000)]\n",
    "print(\"Nombre d'appartements : {}\".format(len(hdspt)))\n",
    "\n",
    "effectif_filtre = len(hdspt)\n",
    "effectif_total = len(h_data_raw)\n",
    "proportion = (effectif_filtre / effectif_total) * 100\n",
    "\n",
    "print(\"Proportion des appartements filtrés par rapport au dataset de départ : {}%\".format(round(proportion)))\n",
    "# Pour avoir la valeur exacte utiliser plutôt : .format(proportion)\n"
   ]
  },
  {
   "cell_type": "markdown",
   "metadata": {},
   "source": [
    "**_N.B :_**\n",
    "\n",
    "La proportion ici correspond à la comparaison de l'effectif total des appartements auxquels on a appliqué\n",
    "les filtres, par rapport à l'effectif total du _dataset_."
   ]
  },
  {
   "cell_type": "code",
   "execution_count": 14,
   "metadata": {},
   "outputs": [
    {
     "name": "stdout",
     "output_type": "stream",
     "text": [
      "10.31061343248176 %\n"
     ]
    }
   ],
   "source": [
    "# Estimation de la proportion du montant total de la variable \"price\" (prix) du sous-ensemble filtré \n",
    "# en comparaison avec celui issu du dataset initial \n",
    "xpf = sum(hdspt['price'])\n",
    "xp = sum(h_data_raw['price'])\n",
    "\n",
    "pp = (xpf / xp) * 100\n",
    "print(\"{} %\".format(pp))\n",
    "\n",
    "# On voit bien ici que même s'ils ne représentent que 2% du corpus initial (en terme d'effectif), \n",
    "# ces appartements représentent environ 10% du montant total des loyers de ce même dataset de départ !"
   ]
  },
  {
   "cell_type": "code",
   "execution_count": 15,
   "metadata": {},
   "outputs": [
    {
     "name": "stdout",
     "output_type": "stream",
     "text": [
      "7.339603363810218 %\n"
     ]
    }
   ],
   "source": [
    "# Estimation de la proportion de la variable \"surface\" du sous-ensemble filtré \n",
    "# en comparaison avec le dataset initial \n",
    "xsf = sum(hdspt['surface'])\n",
    "xs = sum(h_data_raw['surface'])\n",
    "\n",
    "pp2 = (xsf / xs) * 100\n",
    "print(\"{} %\".format(pp2))\n",
    "# On applique la même logique que précédemment, sauf qu'ici ces appartements \n",
    "# représentent environ 7% des surfaces totales des loyers du dataset de départ."
   ]
  },
  {
   "cell_type": "markdown",
   "metadata": {},
   "source": [
    "### Conclusion"
   ]
  },
  {
   "cell_type": "markdown",
   "metadata": {},
   "source": [
    "On voit donc que, bien que ces filtres recrutent une proportion très faible d'observations (effectifs) qui est d'environ\n",
    "**2% de la taille totale du jeu de données**, ces derniers ont une influence bien plus considérable sur le dataset que \n",
    "nous avons ici traité. \n",
    "(influence étant de facteur 4 ou 5 par rapport à l'effectif qu'ils réunissent face au dataset \"brut\" de départ).\n",
    "\n",
    "C'est pourquoi nous avons considéré ici ces éléments comme des _outliers_ car se sont des **valeurs atypiques** qui pourraient biaiser notre analyse.\n",
    "\n",
    "Par la suite on pourrait désormais utiliser la fonction predict() de sklearn pour établir des prédictions \n",
    "à partir de la généralisation du modèle pour un autre échantillon donné.\n",
    "\n",
    "_Exemple fictif :_ \n",
    "\n",
    "_Autre dataset de 200 appartements avec en entrée une surface donnée pour chacun de ces-derniers,\n",
    "sans oublier aussi l'arrondissement si l'on souhaite se calquer sur le modèle 2._\n",
    "\n",
    "_A noter qu'il suffit ici de réduire le nombre de feature afin d'adapter le modèle final à nos besoins. Un retravail du modèle peut alors s'avérer nécessaire dans ce cas de figure._ "
   ]
  },
  {
   "cell_type": "markdown",
   "metadata": {},
   "source": [
    "### Annexe : tableaux de statistiques descriptives"
   ]
  },
  {
   "cell_type": "code",
   "execution_count": 16,
   "metadata": {},
   "outputs": [
    {
     "data": {
      "text/html": [
       "<div>\n",
       "<style>\n",
       "    .dataframe thead tr:only-child th {\n",
       "        text-align: right;\n",
       "    }\n",
       "\n",
       "    .dataframe thead th {\n",
       "        text-align: left;\n",
       "    }\n",
       "\n",
       "    .dataframe tbody tr th {\n",
       "        vertical-align: top;\n",
       "    }\n",
       "</style>\n",
       "<table border=\"1\" class=\"dataframe\">\n",
       "  <thead>\n",
       "    <tr style=\"text-align: right;\">\n",
       "      <th></th>\n",
       "      <th>price</th>\n",
       "      <th>surface</th>\n",
       "      <th>arrondissement</th>\n",
       "    </tr>\n",
       "  </thead>\n",
       "  <tbody>\n",
       "    <tr>\n",
       "      <th>count</th>\n",
       "      <td>13.000000</td>\n",
       "      <td>13.000000</td>\n",
       "      <td>13.000000</td>\n",
       "    </tr>\n",
       "    <tr>\n",
       "      <th>mean</th>\n",
       "      <td>13106.153846</td>\n",
       "      <td>269.384615</td>\n",
       "      <td>1.923077</td>\n",
       "    </tr>\n",
       "    <tr>\n",
       "      <th>std</th>\n",
       "      <td>5599.976992</td>\n",
       "      <td>88.557456</td>\n",
       "      <td>1.441153</td>\n",
       "    </tr>\n",
       "    <tr>\n",
       "      <th>min</th>\n",
       "      <td>6800.000000</td>\n",
       "      <td>180.000000</td>\n",
       "      <td>1.000000</td>\n",
       "    </tr>\n",
       "    <tr>\n",
       "      <th>25%</th>\n",
       "      <td>7450.000000</td>\n",
       "      <td>182.000000</td>\n",
       "      <td>1.000000</td>\n",
       "    </tr>\n",
       "    <tr>\n",
       "      <th>50%</th>\n",
       "      <td>14300.000000</td>\n",
       "      <td>230.000000</td>\n",
       "      <td>1.000000</td>\n",
       "    </tr>\n",
       "    <tr>\n",
       "      <th>75%</th>\n",
       "      <td>15000.000000</td>\n",
       "      <td>347.000000</td>\n",
       "      <td>4.000000</td>\n",
       "    </tr>\n",
       "    <tr>\n",
       "      <th>max</th>\n",
       "      <td>25000.000000</td>\n",
       "      <td>415.000000</td>\n",
       "      <td>4.000000</td>\n",
       "    </tr>\n",
       "  </tbody>\n",
       "</table>\n",
       "</div>"
      ],
      "text/plain": [
       "              price     surface  arrondissement\n",
       "count     13.000000   13.000000       13.000000\n",
       "mean   13106.153846  269.384615        1.923077\n",
       "std     5599.976992   88.557456        1.441153\n",
       "min     6800.000000  180.000000        1.000000\n",
       "25%     7450.000000  182.000000        1.000000\n",
       "50%    14300.000000  230.000000        1.000000\n",
       "75%    15000.000000  347.000000        4.000000\n",
       "max    25000.000000  415.000000        4.000000"
      ]
     },
     "execution_count": 16,
     "metadata": {},
     "output_type": "execute_result"
    }
   ],
   "source": [
    "# Statistiques descriptives appliquées au dataframe ayant des filtres actifs\n",
    "# Version \"exacte\"\n",
    "hdspt.describe()\n",
    "# Version arrondie\n",
    "# round(hdspt.describe(), 1)"
   ]
  },
  {
   "cell_type": "code",
   "execution_count": 17,
   "metadata": {},
   "outputs": [
    {
     "data": {
      "text/html": [
       "<div>\n",
       "<style>\n",
       "    .dataframe thead tr:only-child th {\n",
       "        text-align: right;\n",
       "    }\n",
       "\n",
       "    .dataframe thead th {\n",
       "        text-align: left;\n",
       "    }\n",
       "\n",
       "    .dataframe tbody tr th {\n",
       "        vertical-align: top;\n",
       "    }\n",
       "</style>\n",
       "<table border=\"1\" class=\"dataframe\">\n",
       "  <thead>\n",
       "    <tr style=\"text-align: right;\">\n",
       "      <th></th>\n",
       "      <th>price</th>\n",
       "      <th>surface</th>\n",
       "      <th>arrondissement</th>\n",
       "    </tr>\n",
       "  </thead>\n",
       "  <tbody>\n",
       "    <tr>\n",
       "      <th>count</th>\n",
       "      <td>822.000000</td>\n",
       "      <td>822.000000</td>\n",
       "      <td>822.000000</td>\n",
       "    </tr>\n",
       "    <tr>\n",
       "      <th>mean</th>\n",
       "      <td>2010.306569</td>\n",
       "      <td>58.045925</td>\n",
       "      <td>4.142336</td>\n",
       "    </tr>\n",
       "    <tr>\n",
       "      <th>std</th>\n",
       "      <td>1895.091794</td>\n",
       "      <td>44.827522</td>\n",
       "      <td>3.202151</td>\n",
       "    </tr>\n",
       "    <tr>\n",
       "      <th>min</th>\n",
       "      <td>390.000000</td>\n",
       "      <td>10.000000</td>\n",
       "      <td>1.000000</td>\n",
       "    </tr>\n",
       "    <tr>\n",
       "      <th>25%</th>\n",
       "      <td>1052.500000</td>\n",
       "      <td>28.655000</td>\n",
       "      <td>2.000000</td>\n",
       "    </tr>\n",
       "    <tr>\n",
       "      <th>50%</th>\n",
       "      <td>1564.500000</td>\n",
       "      <td>46.100000</td>\n",
       "      <td>3.000000</td>\n",
       "    </tr>\n",
       "    <tr>\n",
       "      <th>75%</th>\n",
       "      <td>2348.000000</td>\n",
       "      <td>73.000000</td>\n",
       "      <td>4.000000</td>\n",
       "    </tr>\n",
       "    <tr>\n",
       "      <th>max</th>\n",
       "      <td>25000.000000</td>\n",
       "      <td>415.000000</td>\n",
       "      <td>10.000000</td>\n",
       "    </tr>\n",
       "  </tbody>\n",
       "</table>\n",
       "</div>"
      ],
      "text/plain": [
       "              price     surface  arrondissement\n",
       "count    822.000000  822.000000      822.000000\n",
       "mean    2010.306569   58.045925        4.142336\n",
       "std     1895.091794   44.827522        3.202151\n",
       "min      390.000000   10.000000        1.000000\n",
       "25%     1052.500000   28.655000        2.000000\n",
       "50%     1564.500000   46.100000        3.000000\n",
       "75%     2348.000000   73.000000        4.000000\n",
       "max    25000.000000  415.000000       10.000000"
      ]
     },
     "execution_count": 17,
     "metadata": {},
     "output_type": "execute_result"
    }
   ],
   "source": [
    "# Statistiques descriptives appliquées au dataframe brut\n",
    "# Version exacte\n",
    "h_data_raw.describe()\n",
    "# Version arrondie\n",
    "# round(h_data_raw.describe(), 1)"
   ]
  }
 ],
 "metadata": {
  "kernelspec": {
   "display_name": "Python 3",
   "language": "python",
   "name": "python3"
  },
  "language_info": {
   "codemirror_mode": {
    "name": "ipython",
    "version": 3
   },
   "file_extension": ".py",
   "mimetype": "text/x-python",
   "name": "python",
   "nbconvert_exporter": "python",
   "pygments_lexer": "ipython3",
   "version": "3.6.3"
  }
 },
 "nbformat": 4,
 "nbformat_minor": 2
}
